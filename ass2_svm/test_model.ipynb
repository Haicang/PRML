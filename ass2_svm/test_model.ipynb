{
 "cells": [
  {
   "cell_type": "code",
   "execution_count": 1,
   "metadata": {},
   "outputs": [],
   "source": [
    "import numpy as np\n",
    "from svm import *"
   ]
  },
  {
   "cell_type": "code",
   "execution_count": 2,
   "metadata": {},
   "outputs": [],
   "source": [
    "def load_data(fname):\n",
    "    \"\"\"\n",
    "    载入数据。\n",
    "    \"\"\"\n",
    "    with open(fname, 'r') as f:\n",
    "        data = []\n",
    "        line = f.readline()\n",
    "        for line in f:\n",
    "            line = line.strip().split()\n",
    "            x1 = float(line[0])\n",
    "            x2 = float(line[1])\n",
    "            t = int(line[2])\n",
    "            data.append([x1, x2, t])\n",
    "        return np.array(data)\n",
    "\n",
    "\n",
    "def show_data(fname):\n",
    "    data = load_data(fname)\n",
    "    X1, X2, y = data[:, 0], data[:, 1], data[:, 2]\n",
    "    plt.scatter(X1, X2, c=y)"
   ]
  },
  {
   "cell_type": "code",
   "execution_count": 3,
   "metadata": {},
   "outputs": [],
   "source": [
    "    # 载入数据，实际实用时将x替换为具体名称\n",
    "    train_file = 'data/train_kernel.txt'\n",
    "    test_file = 'data/test_kernel.txt'\n",
    "    data_train = load_data(train_file)  # 数据格式[x1, x2, t]\n",
    "    data_test = load_data(test_file)\n",
    "    x_test = data_test[:, :2]\n",
    "    t_test = data_test[:, 2]"
   ]
  },
  {
   "cell_type": "code",
   "execution_count": 4,
   "metadata": {},
   "outputs": [],
   "source": [
    "def compare_models(models, names, train, test):\n",
    "    X, t = train[:, :2], train[:, 2]\n",
    "    X_test, t_test = test[:, :2], test[:, 2]\n",
    "    print('(train accuracy, test accuracy)')\n",
    "    for (model, name) in zip(models, names):\n",
    "        model.train(data_train)\n",
    "        pred = model.predict(X)\n",
    "        train_acc = eval_acc(t, pred)\n",
    "        pred = model.predict(x_test)\n",
    "        test_acc = eval_acc(t_test, pred)\n",
    "        print(name + ': ({}, {})'.format(train_acc, test_acc))"
   ]
  },
  {
   "cell_type": "markdown",
   "metadata": {},
   "source": [
    "# Test kernel"
   ]
  },
  {
   "cell_type": "code",
   "execution_count": 5,
   "metadata": {},
   "outputs": [
    {
     "name": "stdout",
     "output_type": "stream",
     "text": [
      "(train accuracy, test accuracy)\n",
      "Gaussian: (1.0, 0.95)\n",
      "Polynomial: (0.985, 0.98)\n",
      "Linear: (0.81, 0.81)\n"
     ]
    }
   ],
   "source": [
    "train_file = 'data/train_kernel.txt'\n",
    "test_file = 'data/test_kernel.txt'\n",
    "data_train = load_data(train_file)  # 数据格式[x1, x2, t]\n",
    "data_test = load_data(test_file)\n",
    "names = ('Gaussian', 'Polynomial', 'Linear')\n",
    "models = (SVM(C=1, kernel=k) for k in ('g', 'p', 'l'))\n",
    "compare_models(models, names, data_train, data_test)"
   ]
  },
  {
   "cell_type": "markdown",
   "metadata": {},
   "source": [
    "### Try different polynomial kernel"
   ]
  },
  {
   "cell_type": "code",
   "execution_count": 6,
   "metadata": {},
   "outputs": [
    {
     "name": "stdout",
     "output_type": "stream",
     "text": [
      "(train accuracy, test accuracy)\n",
      "poly 2: (0.985, 0.98)\n",
      "poly 3: (1.0, 0.975)\n",
      "poly 4: (0.765, 0.805)\n"
     ]
    }
   ],
   "source": [
    "models = []\n",
    "names = []\n",
    "# power 2 -> power 4\n",
    "for i in range(2, 5):\n",
    "    models.append(SVM(C=1, kernel='p', power=i))\n",
    "    names.append('poly ' + str(i))\n",
    "compare_models(models, names, data_train, data_test)"
   ]
  },
  {
   "cell_type": "markdown",
   "metadata": {},
   "source": [
    "# Linear"
   ]
  },
  {
   "cell_type": "code",
   "execution_count": 7,
   "metadata": {},
   "outputs": [],
   "source": [
    "train_file = 'data/train_linear.txt'\n",
    "test_file = 'data/test_linear.txt'\n",
    "train = load_data(train_file)\n",
    "test = load_data(test_file)\n",
    "test_X, test_y = test[:, 0:2], test[:, 2]"
   ]
  },
  {
   "cell_type": "code",
   "execution_count": 8,
   "metadata": {},
   "outputs": [],
   "source": [
    "linear = Linear()\n",
    "logistic = Logistic()\n",
    "clf = SVM(loss='hinge', kernel='l')"
   ]
  },
  {
   "cell_type": "code",
   "execution_count": 9,
   "metadata": {},
   "outputs": [
    {
     "name": "stdout",
     "output_type": "stream",
     "text": [
      "0.96\n",
      "0.98\n"
     ]
    }
   ],
   "source": [
    "linear.train(train, epochs=200, lr=0.0001, show_loss=False)\n",
    "\n",
    "pred = linear.predict(train[:, :2])\n",
    "print(eval_acc(train[:, 2], pred))\n",
    "test_y_pred = linear.predict(test_X)\n",
    "print(eval_acc(test_y, test_y_pred))"
   ]
  },
  {
   "cell_type": "code",
   "execution_count": 10,
   "metadata": {},
   "outputs": [
    {
     "name": "stdout",
     "output_type": "stream",
     "text": [
      "0.95\n",
      "0.96\n"
     ]
    }
   ],
   "source": [
    "logistic.train(train, lr=0.005, epochs=200, show_loss=False)\n",
    "pred = logistic.predict(train[:, :2])\n",
    "print(eval_acc(train[:, 2], pred))\n",
    "pred_y = logistic.predict(test_X)\n",
    "print(eval_acc(test_y, pred_y))"
   ]
  },
  {
   "cell_type": "code",
   "execution_count": 11,
   "metadata": {},
   "outputs": [
    {
     "name": "stdout",
     "output_type": "stream",
     "text": [
      "0, loss: 31460.67102084167\n",
      "100, loss: 106.94414842162846\n",
      "200, loss: 81.40917646135607\n",
      "300, loss: 79.84965377765323\n",
      "400, loss: 78.29320253784894\n",
      "500, loss: 76.7336860864895\n",
      "600, loss: 75.17724107921177\n",
      "700, loss: 73.61773086023241\n",
      "800, loss: 72.06188154125878\n",
      "900, loss: 70.50780370172721\n",
      "Final loss: 68.96941601432519\n"
     ]
    },
    {
     "data": {
      "image/png": "[encoded data removed]",
      "text/plain": [
       "<matplotlib.figure.Figure at 0x107ab94e0>"
      ]
     },
     "metadata": {},
     "output_type": "display_data"
    }
   ],
   "source": [
    "\n",
    "clf.train(train, epochs=1000, lr=0.001, l=0.001, show_loss=True)\n"
   ]
  },
  {
   "cell_type": "code",
   "execution_count": 12,
   "metadata": {},
   "outputs": [
    {
     "name": "stdout",
     "output_type": "stream",
     "text": [
      "0.955\n",
      "0.96\n"
     ]
    }
   ],
   "source": [
    "pred = clf.predict(train[:, :2])\n",
    "print(eval_acc(train[:, 2], pred))\n",
    "pred = clf.predict(test_X)\n",
    "print(eval_acc(test_y, pred))"
   ]
  },
  {
   "cell_type": "markdown",
   "metadata": {},
   "source": [
    "# Multi-class SVM"
   ]
  },
  {
   "cell_type": "code",
   "execution_count": 13,
   "metadata": {},
   "outputs": [],
   "source": [
    "# 载入数据，实际实用时将x替换为具体名称\n",
    "train_file = 'data/train_multi.txt'\n",
    "test_file = 'data/test_multi.txt'\n",
    "data_train = load_data(train_file)  # 数据格式[x1, x2, t]\n",
    "data_test = load_data(test_file)\n",
    "x_test = data_test[:, :2]\n",
    "t_test = data_test[:, 2]"
   ]
  },
  {
   "cell_type": "code",
   "execution_count": 14,
   "metadata": {},
   "outputs": [
    {
     "data": {
      "text/plain": [
       "0.9666666666666667"
      ]
     },
     "execution_count": 14,
     "metadata": {},
     "output_type": "execute_result"
    }
   ],
   "source": [
    "mclf = multiSVM(n_classes=3, decision_function_shape='ovo')\n",
    "mclf.train(data_train)\n",
    "pred = mclf.predict(x_test)\n",
    "eval_acc(pred, t_test)"
   ]
  },
  {
   "cell_type": "code",
   "execution_count": 18,
   "metadata": {},
   "outputs": [
    {
     "name": "stdout",
     "output_type": "stream",
     "text": [
      "1.0\t0.91\n",
      "1.0\t0.9566666666666667\n",
      "0.98\t0.96\n",
      "0.9833333333333333\t0.9766666666666667\n",
      "0.97\t0.9666666666666667\n",
      "0.9833333333333333\t0.9833333333333333\n"
     ]
    }
   ],
   "source": [
    "models = (\n",
    "    multiSVM(C=100, n_classes=3, decision_function_shape='ovr', kernel='g'),\n",
    "    multiSVM(C=100, n_classes=3, decision_function_shape='ovo', kernel='g'),\n",
    "    \n",
    "    multiSVM(C=100, n_classes=3, decision_function_shape='ovr', kernel='p'),\n",
    "    multiSVM(C=100, n_classes=3, decision_function_shape='ovo', kernel='p'),\n",
    "    \n",
    "    multiSVM(C=100, n_classes=3, decision_function_shape='ovr', kernel='l'),\n",
    "    multiSVM(C=100, n_classes=3, decision_function_shape='ovo', kernel='l')\n",
    ")\n",
    "\n",
    "for model in models:\n",
    "    model.train(data_train)\n",
    "    pred = model.predict(data_train[:, :2])\n",
    "    print(eval_acc(pred, data_train[:, 2]), end='\\t')\n",
    "    pred = model.predict(x_test)\n",
    "    print(eval_acc(pred, t_test))"
   ]
  },
  {
   "cell_type": "code",
   "execution_count": null,
   "metadata": {},
   "outputs": [],
   "source": []
  }
 ],
 "metadata": {
  "kernelspec": {
   "display_name": "Python 3",
   "language": "python",
   "name": "python3"
  },
  "language_info": {
   "codemirror_mode": {
    "name": "ipython",
    "version": 3
   },
   "file_extension": ".py",
   "mimetype": "text/x-python",
   "name": "python",
   "nbconvert_exporter": "python",
   "pygments_lexer": "ipython3",
   "version": "3.5.4"
  }
 },
 "nbformat": 4,
 "nbformat_minor": 2
}
