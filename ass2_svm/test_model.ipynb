{
 "cells": [
  {
   "cell_type": "code",
   "execution_count": 1,
   "metadata": {},
   "outputs": [],
   "source": [
    "import numpy as np\n",
    "from svm import *"
   ]
  },
  {
   "cell_type": "code",
   "execution_count": 2,
   "metadata": {},
   "outputs": [],
   "source": [
    "def load_data(fname):\n",
    "    \"\"\"\n",
    "    载入数据。\n",
    "    \"\"\"\n",
    "    with open(fname, 'r') as f:\n",
    "        data = []\n",
    "        line = f.readline()\n",
    "        for line in f:\n",
    "            line = line.strip().split()\n",
    "            x1 = float(line[0])\n",
    "            x2 = float(line[1])\n",
    "            t = int(line[2])\n",
    "            data.append([x1, x2, t])\n",
    "        return np.array(data)\n",
    "\n",
    "\n",
    "def show_data(fname):\n",
    "    data = load_data(fname)\n",
    "    X1, X2, y = data[:, 0], data[:, 1], data[:, 2]\n",
    "    plt.scatter(X1, X2, c=y)"
   ]
  },
  {
   "cell_type": "code",
   "execution_count": 3,
   "metadata": {},
   "outputs": [],
   "source": [
    "    # 载入数据，实际实用时将x替换为具体名称\n",
    "    train_file = 'data/train_kernel.txt'\n",
    "    test_file = 'data/test_kernel.txt'\n",
    "    data_train = load_data(train_file)  # 数据格式[x1, x2, t]\n",
    "    data_test = load_data(test_file)\n",
    "    x_test = data_test[:, :2]\n",
    "    t_test = data_test[:, 2]"
   ]
  },
  {
   "cell_type": "markdown",
   "metadata": {},
   "source": [
    "## Test kernel"
   ]
  },
  {
   "cell_type": "code",
   "execution_count": 4,
   "metadata": {},
   "outputs": [
    {
     "data": {
      "text/plain": [
       "0.95"
      ]
     },
     "execution_count": 4,
     "metadata": {},
     "output_type": "execute_result"
    }
   ],
   "source": [
    "svm = SVM(C=1, kernel='g')\n",
    "svm.train(data_train)\n",
    "pred = svm.predict(x_test)\n",
    "eval_acc(t_test, pred)"
   ]
  },
  {
   "cell_type": "markdown",
   "metadata": {},
   "source": [
    "## Linear"
   ]
  },
  {
   "cell_type": "code",
   "execution_count": 4,
   "metadata": {},
   "outputs": [],
   "source": [
    "train_file = 'data/train_linear.txt'\n",
    "test_file = 'data/test_linear.txt'\n",
    "train = load_data(train_file)\n",
    "test = load_data(test_file)\n",
    "test_X, test_y = test[:, 0:2], test[:, 2]"
   ]
  },
  {
   "cell_type": "code",
   "execution_count": 5,
   "metadata": {},
   "outputs": [],
   "source": [
    "linear = Linear()\n",
    "logistic = Logistic()"
   ]
  },
  {
   "cell_type": "code",
   "execution_count": 7,
   "metadata": {
    "collapsed": true
   },
   "outputs": [
    {
     "name": "stdout",
     "output_type": "stream",
     "text": [
      "0, loss: 7851787.825136422\n",
      "100, loss: 46.816008638399815\n",
      "200, loss: 46.81600828822743\n",
      "300, loss: 46.8160079383894\n",
      "400, loss: 46.81600758888539\n",
      "500, loss: 46.81600723971511\n",
      "600, loss: 46.81600689087822\n",
      "700, loss: 46.81600654237442\n",
      "800, loss: 46.81600619420336\n",
      "900, loss: 46.81600584636475\n",
      "46.8160055023317\n"
     ]
    },
    {
     "data": {
      "text/plain": [
       "0.98"
      ]
     },
     "execution_count": 7,
     "metadata": {},
     "output_type": "execute_result"
    },
    {
     "data": {
      "image/png": "[encoded data removed]",
      "text/plain": [
       "<matplotlib.figure.Figure at 0x110229be0>"
      ]
     },
     "metadata": {},
     "output_type": "display_data"
    }
   ],
   "source": [
    "linear.train(train, epochs=100, lr=0.0001, show_loss=True)\n",
    "test_y_pred = linear.predict(test_X)\n",
    "eval_acc(test_y, test_y_pred)"
   ]
  },
  {
   "cell_type": "code",
   "execution_count": 18,
   "metadata": {},
   "outputs": [
    {
     "name": "stdout",
     "output_type": "stream",
     "text": [
      "0, loss: 7298.226873854945\n",
      "64.40956305433679\n"
     ]
    },
    {
     "data": {
      "text/plain": [
       "0.96"
      ]
     },
     "execution_count": 18,
     "metadata": {},
     "output_type": "execute_result"
    },
    {
     "data": {
      "image/png": "[encoded data removed]",
      "text/plain": [
       "<matplotlib.figure.Figure at 0x110548b00>"
      ]
     },
     "metadata": {},
     "output_type": "display_data"
    }
   ],
   "source": [
    "logistic.train(train, lr=0.005, epochs=100, show_loss=True)\n",
    "pred_y = logistic.predict(test_X)\n",
    "eval_acc(test_y, pred_y)"
   ]
  },
  {
   "cell_type": "code",
   "execution_count": 14,
   "metadata": {
    "collapsed": true
   },
   "outputs": [
    {
     "name": "stdout",
     "output_type": "stream",
     "text": [
      "Final loss: 20.48431242528138\n"
     ]
    },
    {
     "data": {
      "image/png": "[encoded data removed]",
      "text/plain": [
       "<matplotlib.figure.Figure at 0x11022a1d0>"
      ]
     },
     "metadata": {},
     "output_type": "display_data"
    }
   ],
   "source": [
    "clf = SVM(loss='hinge', kernel='l')\n",
    "clf.train(train, epochs=100, lr=0.001, l=0.001, show=True)\n",
    "pred = clf.predict(test_X)"
   ]
  },
  {
   "cell_type": "code",
   "execution_count": 15,
   "metadata": {},
   "outputs": [
    {
     "data": {
      "text/plain": [
       "0.97"
      ]
     },
     "execution_count": 15,
     "metadata": {},
     "output_type": "execute_result"
    }
   ],
   "source": [
    "eval_acc(test_y, pred)"
   ]
  },
  {
   "cell_type": "markdown",
   "metadata": {},
   "source": [
    "# Multi-class SVM"
   ]
  },
  {
   "cell_type": "code",
   "execution_count": 16,
   "metadata": {},
   "outputs": [],
   "source": [
    "# 载入数据，实际实用时将x替换为具体名称\n",
    "train_file = 'data/train_multi.txt'\n",
    "test_file = 'data/test_multi.txt'\n",
    "data_train = load_data(train_file)  # 数据格式[x1, x2, t]\n",
    "data_test = load_data(test_file)\n",
    "x_test = data_test[:, :2]\n",
    "t_test = data_test[:, 2]"
   ]
  },
  {
   "cell_type": "code",
   "execution_count": 21,
   "metadata": {},
   "outputs": [
    {
     "data": {
      "text/plain": [
       "0.9666666666666667"
      ]
     },
     "execution_count": 21,
     "metadata": {},
     "output_type": "execute_result"
    }
   ],
   "source": [
    "mclf = multiSVM(n_classes=3, decision_function_shape='ovo')\n",
    "mclf.train(data_train)\n",
    "pred = mclf.predict(x_test)\n",
    "eval_acc(pred, t_test)"
   ]
  }
 ],
 "metadata": {
  "kernelspec": {
   "display_name": "Python 3",
   "language": "python",
   "name": "python3"
  },
  "language_info": {
   "codemirror_mode": {
    "name": "ipython",
    "version": 3
   },
   "file_extension": ".py",
   "mimetype": "text/x-python",
   "name": "python",
   "nbconvert_exporter": "python",
   "pygments_lexer": "ipython3",
   "version": "3.5.4"
  }
 },
 "nbformat": 4,
 "nbformat_minor": 2
}
